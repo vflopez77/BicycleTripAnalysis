{
 "cells": [
  {
   "cell_type": "markdown",
   "metadata": {},
   "source": [
    "## <center>This Model will Attempt to Predict the Type of Bicycle Used from Trip Data</center>"
   ]
  },
  {
   "cell_type": "code",
   "execution_count": 1,
   "metadata": {},
   "outputs": [],
   "source": [
    "# Eliminating Warnings\n",
    "import warnings\n",
    "warnings.filterwarnings('ignore')"
   ]
  },
  {
   "cell_type": "code",
   "execution_count": 2,
   "metadata": {},
   "outputs": [],
   "source": [
    "# Importing Libraries\n",
    "import pandas as pd\n",
    "import numpy as np\n",
    "import os\n",
    "from pathlib import Path\n",
    "from collections import Counter\n",
    "from sklearn.preprocessing import LabelEncoder\n",
    "from sklearn.preprocessing import StandardScaler\n",
    "from sklearn.model_selection import train_test_split\n",
    "from imblearn.over_sampling import RandomOverSampler\n",
    "from sklearn.linear_model import LogisticRegression\n",
    "from sklearn.metrics import confusion_matrix\n",
    "from imblearn.metrics import classification_report_imbalanced\n",
    "from imblearn.over_sampling import SMOTE\n",
    "from sklearn.metrics import balanced_accuracy_score"
   ]
  },
  {
   "cell_type": "code",
   "execution_count": 3,
   "metadata": {},
   "outputs": [],
   "source": [
    "# Set up data path\n",
    "data_path = 'data'"
   ]
  },
  {
   "cell_type": "code",
   "execution_count": 4,
   "metadata": {},
   "outputs": [
    {
     "data": {
      "text/html": [
       "<div>\n",
       "<style scoped>\n",
       "    .dataframe tbody tr th:only-of-type {\n",
       "        vertical-align: middle;\n",
       "    }\n",
       "\n",
       "    .dataframe tbody tr th {\n",
       "        vertical-align: top;\n",
       "    }\n",
       "\n",
       "    .dataframe thead th {\n",
       "        text-align: right;\n",
       "    }\n",
       "</style>\n",
       "<table border=\"1\" class=\"dataframe\">\n",
       "  <thead>\n",
       "    <tr style=\"text-align: right;\">\n",
       "      <th></th>\n",
       "      <th>Date</th>\n",
       "      <th>Destination</th>\n",
       "      <th>Miles</th>\n",
       "      <th>Hours</th>\n",
       "      <th>Minutes</th>\n",
       "      <th>Duration</th>\n",
       "      <th>Speed</th>\n",
       "      <th>Type</th>\n",
       "    </tr>\n",
       "  </thead>\n",
       "  <tbody>\n",
       "    <tr>\n",
       "      <th>0</th>\n",
       "      <td>7/6/16</td>\n",
       "      <td>Citibike to Work</td>\n",
       "      <td>1.20</td>\n",
       "      <td>NaN</td>\n",
       "      <td>10.0</td>\n",
       "      <td>0.17</td>\n",
       "      <td>7.20</td>\n",
       "      <td>Citibike</td>\n",
       "    </tr>\n",
       "    <tr>\n",
       "      <th>1</th>\n",
       "      <td>11/11/16</td>\n",
       "      <td>Citibike from Work</td>\n",
       "      <td>1.00</td>\n",
       "      <td>NaN</td>\n",
       "      <td>10.0</td>\n",
       "      <td>0.17</td>\n",
       "      <td>6.00</td>\n",
       "      <td>Citibike</td>\n",
       "    </tr>\n",
       "    <tr>\n",
       "      <th>2</th>\n",
       "      <td>11/11/16</td>\n",
       "      <td>Citibike to Work</td>\n",
       "      <td>1.30</td>\n",
       "      <td>NaN</td>\n",
       "      <td>11.0</td>\n",
       "      <td>0.18</td>\n",
       "      <td>7.09</td>\n",
       "      <td>Citibike</td>\n",
       "    </tr>\n",
       "    <tr>\n",
       "      <th>3</th>\n",
       "      <td>8/24/16</td>\n",
       "      <td>Citibike from Work</td>\n",
       "      <td>0.83</td>\n",
       "      <td>NaN</td>\n",
       "      <td>8.0</td>\n",
       "      <td>0.13</td>\n",
       "      <td>6.23</td>\n",
       "      <td>Citibike</td>\n",
       "    </tr>\n",
       "    <tr>\n",
       "      <th>4</th>\n",
       "      <td>9/15/19</td>\n",
       "      <td>Roosevelt Island</td>\n",
       "      <td>6.24</td>\n",
       "      <td>1.0</td>\n",
       "      <td>6.0</td>\n",
       "      <td>1.10</td>\n",
       "      <td>5.67</td>\n",
       "      <td>Specialized</td>\n",
       "    </tr>\n",
       "    <tr>\n",
       "      <th>...</th>\n",
       "      <td>...</td>\n",
       "      <td>...</td>\n",
       "      <td>...</td>\n",
       "      <td>...</td>\n",
       "      <td>...</td>\n",
       "      <td>...</td>\n",
       "      <td>...</td>\n",
       "      <td>...</td>\n",
       "    </tr>\n",
       "    <tr>\n",
       "      <th>348</th>\n",
       "      <td>4/12/20</td>\n",
       "      <td>CP BL x 2</td>\n",
       "      <td>13.81</td>\n",
       "      <td>1.0</td>\n",
       "      <td>48.0</td>\n",
       "      <td>1.80</td>\n",
       "      <td>7.67</td>\n",
       "      <td>Specialized</td>\n",
       "    </tr>\n",
       "    <tr>\n",
       "      <th>349</th>\n",
       "      <td>10/25/16</td>\n",
       "      <td>Citibike to Work</td>\n",
       "      <td>1.46</td>\n",
       "      <td>NaN</td>\n",
       "      <td>10.0</td>\n",
       "      <td>0.17</td>\n",
       "      <td>8.76</td>\n",
       "      <td>Citibike</td>\n",
       "    </tr>\n",
       "    <tr>\n",
       "      <th>350</th>\n",
       "      <td>10/1/19</td>\n",
       "      <td>CP BL</td>\n",
       "      <td>7.43</td>\n",
       "      <td>1.0</td>\n",
       "      <td>6.0</td>\n",
       "      <td>1.10</td>\n",
       "      <td>6.75</td>\n",
       "      <td>Specialized</td>\n",
       "    </tr>\n",
       "    <tr>\n",
       "      <th>351</th>\n",
       "      <td>9/20/16</td>\n",
       "      <td>Citibike from Work Midday</td>\n",
       "      <td>0.90</td>\n",
       "      <td>NaN</td>\n",
       "      <td>12.0</td>\n",
       "      <td>0.20</td>\n",
       "      <td>4.50</td>\n",
       "      <td>Citibike</td>\n",
       "    </tr>\n",
       "    <tr>\n",
       "      <th>352</th>\n",
       "      <td>12/29/20</td>\n",
       "      <td>From Trek WS</td>\n",
       "      <td>3.75</td>\n",
       "      <td>NaN</td>\n",
       "      <td>26.0</td>\n",
       "      <td>0.43</td>\n",
       "      <td>8.65</td>\n",
       "      <td>Specialized</td>\n",
       "    </tr>\n",
       "  </tbody>\n",
       "</table>\n",
       "<p>353 rows × 8 columns</p>\n",
       "</div>"
      ],
      "text/plain": [
       "         Date                Destination  Miles  Hours  Minutes  Duration  \\\n",
       "0      7/6/16           Citibike to Work   1.20    NaN     10.0      0.17   \n",
       "1    11/11/16         Citibike from Work   1.00    NaN     10.0      0.17   \n",
       "2    11/11/16           Citibike to Work   1.30    NaN     11.0      0.18   \n",
       "3     8/24/16         Citibike from Work   0.83    NaN      8.0      0.13   \n",
       "4     9/15/19           Roosevelt Island   6.24    1.0      6.0      1.10   \n",
       "..        ...                        ...    ...    ...      ...       ...   \n",
       "348   4/12/20                  CP BL x 2  13.81    1.0     48.0      1.80   \n",
       "349  10/25/16           Citibike to Work   1.46    NaN     10.0      0.17   \n",
       "350   10/1/19                      CP BL   7.43    1.0      6.0      1.10   \n",
       "351   9/20/16  Citibike from Work Midday   0.90    NaN     12.0      0.20   \n",
       "352  12/29/20               From Trek WS   3.75    NaN     26.0      0.43   \n",
       "\n",
       "     Speed         Type  \n",
       "0     7.20     Citibike  \n",
       "1     6.00     Citibike  \n",
       "2     7.09     Citibike  \n",
       "3     6.23     Citibike  \n",
       "4     5.67  Specialized  \n",
       "..     ...          ...  \n",
       "348   7.67  Specialized  \n",
       "349   8.76     Citibike  \n",
       "350   6.75  Specialized  \n",
       "351   4.50     Citibike  \n",
       "352   8.65  Specialized  \n",
       "\n",
       "[353 rows x 8 columns]"
      ]
     },
     "execution_count": 4,
     "metadata": {},
     "output_type": "execute_result"
    }
   ],
   "source": [
    "# Load base data to dataframe\n",
    "all_data_file = 'all_data.csv'\n",
    "all_df = pd.read_csv(os.path.join(data_path, all_data_file))\n",
    "all_df"
   ]
  },
  {
   "cell_type": "code",
   "execution_count": 8,
   "metadata": {},
   "outputs": [],
   "source": [
    "# Defining fields to use\n",
    "columns = ['Miles', 'Duration', 'Speed','Type']\n",
    "# target = ['Type']"
   ]
  },
  {
   "cell_type": "code",
   "execution_count": 9,
   "metadata": {},
   "outputs": [
    {
     "data": {
      "text/html": [
       "<div>\n",
       "<style scoped>\n",
       "    .dataframe tbody tr th:only-of-type {\n",
       "        vertical-align: middle;\n",
       "    }\n",
       "\n",
       "    .dataframe tbody tr th {\n",
       "        vertical-align: top;\n",
       "    }\n",
       "\n",
       "    .dataframe thead th {\n",
       "        text-align: right;\n",
       "    }\n",
       "</style>\n",
       "<table border=\"1\" class=\"dataframe\">\n",
       "  <thead>\n",
       "    <tr style=\"text-align: right;\">\n",
       "      <th></th>\n",
       "      <th>Miles</th>\n",
       "      <th>Duration</th>\n",
       "      <th>Speed</th>\n",
       "      <th>Type</th>\n",
       "    </tr>\n",
       "  </thead>\n",
       "  <tbody>\n",
       "    <tr>\n",
       "      <th>0</th>\n",
       "      <td>1.20</td>\n",
       "      <td>0.17</td>\n",
       "      <td>7.20</td>\n",
       "      <td>Citibike</td>\n",
       "    </tr>\n",
       "    <tr>\n",
       "      <th>1</th>\n",
       "      <td>1.00</td>\n",
       "      <td>0.17</td>\n",
       "      <td>6.00</td>\n",
       "      <td>Citibike</td>\n",
       "    </tr>\n",
       "    <tr>\n",
       "      <th>2</th>\n",
       "      <td>1.30</td>\n",
       "      <td>0.18</td>\n",
       "      <td>7.09</td>\n",
       "      <td>Citibike</td>\n",
       "    </tr>\n",
       "    <tr>\n",
       "      <th>3</th>\n",
       "      <td>0.83</td>\n",
       "      <td>0.13</td>\n",
       "      <td>6.23</td>\n",
       "      <td>Citibike</td>\n",
       "    </tr>\n",
       "    <tr>\n",
       "      <th>4</th>\n",
       "      <td>6.24</td>\n",
       "      <td>1.10</td>\n",
       "      <td>5.67</td>\n",
       "      <td>Specialized</td>\n",
       "    </tr>\n",
       "    <tr>\n",
       "      <th>...</th>\n",
       "      <td>...</td>\n",
       "      <td>...</td>\n",
       "      <td>...</td>\n",
       "      <td>...</td>\n",
       "    </tr>\n",
       "    <tr>\n",
       "      <th>348</th>\n",
       "      <td>13.81</td>\n",
       "      <td>1.80</td>\n",
       "      <td>7.67</td>\n",
       "      <td>Specialized</td>\n",
       "    </tr>\n",
       "    <tr>\n",
       "      <th>349</th>\n",
       "      <td>1.46</td>\n",
       "      <td>0.17</td>\n",
       "      <td>8.76</td>\n",
       "      <td>Citibike</td>\n",
       "    </tr>\n",
       "    <tr>\n",
       "      <th>350</th>\n",
       "      <td>7.43</td>\n",
       "      <td>1.10</td>\n",
       "      <td>6.75</td>\n",
       "      <td>Specialized</td>\n",
       "    </tr>\n",
       "    <tr>\n",
       "      <th>351</th>\n",
       "      <td>0.90</td>\n",
       "      <td>0.20</td>\n",
       "      <td>4.50</td>\n",
       "      <td>Citibike</td>\n",
       "    </tr>\n",
       "    <tr>\n",
       "      <th>352</th>\n",
       "      <td>3.75</td>\n",
       "      <td>0.43</td>\n",
       "      <td>8.65</td>\n",
       "      <td>Specialized</td>\n",
       "    </tr>\n",
       "  </tbody>\n",
       "</table>\n",
       "<p>353 rows × 4 columns</p>\n",
       "</div>"
      ],
      "text/plain": [
       "     Miles  Duration  Speed         Type\n",
       "0     1.20      0.17   7.20     Citibike\n",
       "1     1.00      0.17   6.00     Citibike\n",
       "2     1.30      0.18   7.09     Citibike\n",
       "3     0.83      0.13   6.23     Citibike\n",
       "4     6.24      1.10   5.67  Specialized\n",
       "..     ...       ...    ...          ...\n",
       "348  13.81      1.80   7.67  Specialized\n",
       "349   1.46      0.17   8.76     Citibike\n",
       "350   7.43      1.10   6.75  Specialized\n",
       "351   0.90      0.20   4.50     Citibike\n",
       "352   3.75      0.43   8.65  Specialized\n",
       "\n",
       "[353 rows x 4 columns]"
      ]
     },
     "execution_count": 9,
     "metadata": {},
     "output_type": "execute_result"
    }
   ],
   "source": [
    "# Create Dataframe with desired columns\n",
    "bike_df = all_df.loc[:,columns].copy()\n",
    "bike_df"
   ]
  },
  {
   "cell_type": "code",
   "execution_count": 7,
   "metadata": {},
   "outputs": [
    {
     "data": {
      "text/html": [
       "<div>\n",
       "<style scoped>\n",
       "    .dataframe tbody tr th:only-of-type {\n",
       "        vertical-align: middle;\n",
       "    }\n",
       "\n",
       "    .dataframe tbody tr th {\n",
       "        vertical-align: top;\n",
       "    }\n",
       "\n",
       "    .dataframe thead th {\n",
       "        text-align: right;\n",
       "    }\n",
       "</style>\n",
       "<table border=\"1\" class=\"dataframe\">\n",
       "  <thead>\n",
       "    <tr style=\"text-align: right;\">\n",
       "      <th></th>\n",
       "      <th>Miles</th>\n",
       "      <th>Duration</th>\n",
       "      <th>Speed</th>\n",
       "    </tr>\n",
       "  </thead>\n",
       "  <tbody>\n",
       "    <tr>\n",
       "      <th>0</th>\n",
       "      <td>1.20</td>\n",
       "      <td>0.17</td>\n",
       "      <td>7.20</td>\n",
       "    </tr>\n",
       "    <tr>\n",
       "      <th>1</th>\n",
       "      <td>1.00</td>\n",
       "      <td>0.17</td>\n",
       "      <td>6.00</td>\n",
       "    </tr>\n",
       "    <tr>\n",
       "      <th>2</th>\n",
       "      <td>1.30</td>\n",
       "      <td>0.18</td>\n",
       "      <td>7.09</td>\n",
       "    </tr>\n",
       "    <tr>\n",
       "      <th>3</th>\n",
       "      <td>0.83</td>\n",
       "      <td>0.13</td>\n",
       "      <td>6.23</td>\n",
       "    </tr>\n",
       "    <tr>\n",
       "      <th>4</th>\n",
       "      <td>6.24</td>\n",
       "      <td>1.10</td>\n",
       "      <td>5.67</td>\n",
       "    </tr>\n",
       "    <tr>\n",
       "      <th>...</th>\n",
       "      <td>...</td>\n",
       "      <td>...</td>\n",
       "      <td>...</td>\n",
       "    </tr>\n",
       "    <tr>\n",
       "      <th>348</th>\n",
       "      <td>13.81</td>\n",
       "      <td>1.80</td>\n",
       "      <td>7.67</td>\n",
       "    </tr>\n",
       "    <tr>\n",
       "      <th>349</th>\n",
       "      <td>1.46</td>\n",
       "      <td>0.17</td>\n",
       "      <td>8.76</td>\n",
       "    </tr>\n",
       "    <tr>\n",
       "      <th>350</th>\n",
       "      <td>7.43</td>\n",
       "      <td>1.10</td>\n",
       "      <td>6.75</td>\n",
       "    </tr>\n",
       "    <tr>\n",
       "      <th>351</th>\n",
       "      <td>0.90</td>\n",
       "      <td>0.20</td>\n",
       "      <td>4.50</td>\n",
       "    </tr>\n",
       "    <tr>\n",
       "      <th>352</th>\n",
       "      <td>3.75</td>\n",
       "      <td>0.43</td>\n",
       "      <td>8.65</td>\n",
       "    </tr>\n",
       "  </tbody>\n",
       "</table>\n",
       "<p>353 rows × 3 columns</p>\n",
       "</div>"
      ],
      "text/plain": [
       "     Miles  Duration  Speed\n",
       "0     1.20      0.17   7.20\n",
       "1     1.00      0.17   6.00\n",
       "2     1.30      0.18   7.09\n",
       "3     0.83      0.13   6.23\n",
       "4     6.24      1.10   5.67\n",
       "..     ...       ...    ...\n",
       "348  13.81      1.80   7.67\n",
       "349   1.46      0.17   8.76\n",
       "350   7.43      1.10   6.75\n",
       "351   0.90      0.20   4.50\n",
       "352   3.75      0.43   8.65\n",
       "\n",
       "[353 rows x 3 columns]"
      ]
     },
     "execution_count": 7,
     "metadata": {},
     "output_type": "execute_result"
    }
   ],
   "source": [
    "# Create Dataframe with desired columns\n",
    "# Demonstrating different way to do it\n",
    "#new2_df = all_df[['Miles', 'Duration', 'Speed', 'Type']]\n",
    "#new2_df"
   ]
  },
  {
   "cell_type": "code",
   "execution_count": 10,
   "metadata": {},
   "outputs": [],
   "source": [
    "# Splitting out Features and Target\n",
    "y = bike_df[\"Type\"]\n",
    "X = bike_df.drop(columns=\"Type\")"
   ]
  },
  {
   "cell_type": "code",
   "execution_count": 13,
   "metadata": {},
   "outputs": [],
   "source": [
    "# Splitting out Training and Testing data\n",
    "from sklearn.model_selection import train_test_split\n",
    "X_train, X_test, y_train, y_test = train_test_split(X, y, random_state=1, stratify=y)"
   ]
  },
  {
   "cell_type": "code",
   "execution_count": 14,
   "metadata": {},
   "outputs": [
    {
     "data": {
      "text/plain": [
       "(264, 3)"
      ]
     },
     "execution_count": 14,
     "metadata": {},
     "output_type": "execute_result"
    }
   ],
   "source": [
    "# Checking training data shape\n",
    "X_train.shape"
   ]
  },
  {
   "cell_type": "code",
   "execution_count": 15,
   "metadata": {},
   "outputs": [
    {
     "data": {
      "text/plain": [
       "(89, 3)"
      ]
     },
     "execution_count": 15,
     "metadata": {},
     "output_type": "execute_result"
    }
   ],
   "source": [
    "# Checking testing data shape\n",
    "X_test.shape"
   ]
  },
  {
   "cell_type": "code",
   "execution_count": 16,
   "metadata": {},
   "outputs": [],
   "source": [
    "# Creating the Logistic Regression Model\n",
    "from sklearn.linear_model import LogisticRegression\n",
    "classifier = LogisticRegression(solver='lbfgs', max_iter=200, random_state=1)"
   ]
  },
  {
   "cell_type": "code",
   "execution_count": 17,
   "metadata": {},
   "outputs": [
    {
     "data": {
      "text/plain": [
       "LogisticRegression(max_iter=200, random_state=1)"
      ]
     },
     "execution_count": 17,
     "metadata": {},
     "output_type": "execute_result"
    }
   ],
   "source": [
    "# Training the Model\n",
    "classifier.fit(X_train, y_train)"
   ]
  },
  {
   "cell_type": "code",
   "execution_count": 20,
   "metadata": {},
   "outputs": [],
   "source": [
    "# Create Predictions\n",
    "y_pred = classifier.predict(X_test)"
   ]
  },
  {
   "cell_type": "code",
   "execution_count": 21,
   "metadata": {},
   "outputs": [
    {
     "name": "stdout",
     "output_type": "stream",
     "text": [
      "1.0\n"
     ]
    }
   ],
   "source": [
    "# Get accuracy score\n",
    "from sklearn.metrics import accuracy_score\n",
    "print(accuracy_score(y_test, y_pred))"
   ]
  },
  {
   "cell_type": "code",
   "execution_count": null,
   "metadata": {},
   "outputs": [],
   "source": []
  }
 ],
 "metadata": {
  "kernelspec": {
   "display_name": "mlenv",
   "language": "python",
   "name": "mlenv"
  },
  "language_info": {
   "codemirror_mode": {
    "name": "ipython",
    "version": 3
   },
   "file_extension": ".py",
   "mimetype": "text/x-python",
   "name": "python",
   "nbconvert_exporter": "python",
   "pygments_lexer": "ipython3",
   "version": "3.8.5"
  }
 },
 "nbformat": 4,
 "nbformat_minor": 4
}
